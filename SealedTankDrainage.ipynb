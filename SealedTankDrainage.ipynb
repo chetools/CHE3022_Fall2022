{
  "nbformat": 4,
  "nbformat_minor": 0,
  "metadata": {
    "colab": {
      "provenance": [],
      "authorship_tag": "ABX9TyP3ogkVwdn0+SOx8GOk10Jx",
      "include_colab_link": true
    },
    "kernelspec": {
      "name": "python3",
      "display_name": "Python 3"
    },
    "language_info": {
      "name": "python"
    }
  },
  "cells": [
    {
      "cell_type": "markdown",
      "metadata": {
        "id": "view-in-github",
        "colab_type": "text"
      },
      "source": [
        "<a href=\"https://colab.research.google.com/github/profteachkids/CHE3022_Fall2022/blob/main/SealedTankDrainage.ipynb\" target=\"_parent\"><img src=\"https://colab.research.google.com/assets/colab-badge.svg\" alt=\"Open In Colab\"/></a>"
      ]
    },
    {
      "cell_type": "code",
      "source": [
        "import numpy as np\n",
        "from scipy.integrate import solve_ivp"
      ],
      "metadata": {
        "id": "NmEmuPSB3dWA"
      },
      "execution_count": 1,
      "outputs": []
    },
    {
      "cell_type": "code",
      "source": [
        "g = 9.81 #m/s2\n",
        "Pext = 101325 #Pa\n",
        "hi = 0.9  #m\n",
        "H = 1. #m\n",
        "rho = 1e3 #kg/m3\n",
        "Ac = 1. #m2\n",
        "Ahole = 1e-3 #m2\n",
        "tend = 1. #s"
      ],
      "metadata": {
        "id": "TcpDMzcY4GdT"
      },
      "execution_count": 13,
      "outputs": []
    },
    {
      "cell_type": "code",
      "execution_count": 14,
      "metadata": {
        "id": "gmJulPY12w-X"
      },
      "outputs": [],
      "source": [
        "def rhs(t, y):\n",
        "    h = y[0]\n",
        "    v2 = np.sqrt(2*(g*h + Pext/rho*((H-hi)/(H-h)-1.) ) )\n",
        "    return [-Ahole/Ac * v2]"
      ]
    },
    {
      "cell_type": "code",
      "source": [
        "solve_ivp(rhs, (0,tend), [hi], method='Radau', dense_output=True)"
      ],
      "metadata": {
        "colab": {
          "base_uri": "https://localhost:8080/"
        },
        "id": "-O_RrgEy4tcV",
        "outputId": "0ed4ba0e-3284-448a-9ff1-13ec0e177ec4"
      },
      "execution_count": 15,
      "outputs": [
        {
          "output_type": "execute_result",
          "data": {
            "text/plain": [
              "  message: 'The solver successfully reached the end of the integration interval.'\n",
              "     nfev: 16\n",
              "     njev: 1\n",
              "      nlu: 4\n",
              "      sol: <scipy.integrate._ivp.common.OdeSolution object at 0x7fa677fc0950>\n",
              "   status: 0\n",
              "  success: True\n",
              "        t: array([0.        , 0.21518575, 1.        ])\n",
              " t_events: None\n",
              "        y: array([[0.9       , 0.89911931, 0.89629642]])\n",
              " y_events: None"
            ]
          },
          "metadata": {},
          "execution_count": 15
        }
      ]
    },
    {
      "cell_type": "code",
      "source": [],
      "metadata": {
        "id": "p-QyEe-p5CLP"
      },
      "execution_count": null,
      "outputs": []
    }
  ]
}