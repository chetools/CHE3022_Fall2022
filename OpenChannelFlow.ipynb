{
  "nbformat": 4,
  "nbformat_minor": 0,
  "metadata": {
    "colab": {
      "provenance": [],
      "authorship_tag": "ABX9TyMJePMAPwL5fgHhxxL8ohRU",
      "include_colab_link": true
    },
    "kernelspec": {
      "name": "python3",
      "display_name": "Python 3"
    },
    "language_info": {
      "name": "python"
    }
  },
  "cells": [
    {
      "cell_type": "markdown",
      "metadata": {
        "id": "view-in-github",
        "colab_type": "text"
      },
      "source": [
        "<a href=\"https://colab.research.google.com/github/profteachkids/CHE3022_Fall2022/blob/main/OpenChannelFlow.ipynb\" target=\"_parent\"><img src=\"https://colab.research.google.com/assets/colab-badge.svg\" alt=\"Open In Colab\"/></a>"
      ]
    },
    {
      "cell_type": "code",
      "execution_count": 1,
      "metadata": {
        "id": "Fq0Lp5hv8QMK"
      },
      "outputs": [],
      "source": [
        "import numpy as np\n",
        "from scipy.optimize import root"
      ]
    },
    {
      "cell_type": "code",
      "source": [
        "mu = 1e-3  #Pa s\n",
        "rho = 1e3   # kg/m3\n",
        "g=9.81      #m/s2"
      ],
      "metadata": {
        "id": "Nx5xo61SJpMY"
      },
      "execution_count": 2,
      "outputs": []
    },
    {
      "cell_type": "code",
      "source": [
        "def churchill(Re, eD):\n",
        "    t1 = (-2.457*np.log((7./Re)**0.9 + 0.27*eD))**16\n",
        "    t2 = (37530/Re)**16\n",
        "    return 2* ((8/Re)**12 + 1/(t1+t2)**1.5)**(1/12.)"
      ],
      "metadata": {
        "id": "-fJA5aDyJp0n"
      },
      "execution_count": 3,
      "outputs": []
    },
    {
      "cell_type": "code",
      "source": [
        "Q = 1. #m3/s\n",
        "w = 0.5 #m\n",
        "theta = 15 * np.pi/180"
      ],
      "metadata": {
        "id": "9J2w--mjJriw"
      },
      "execution_count": 4,
      "outputs": []
    },
    {
      "cell_type": "code",
      "source": [
        "def eq(v):\n",
        "    h=v[0]\n",
        "    D = 4*h*w/(2*h+w)\n",
        "    v = Q/(h*w)\n",
        "    Re = rho*v*D/mu\n",
        "    f = churchill(Re,1e-6)\n",
        "    return [g - (2*h+w)*f*Q**2/(2*np.sin(theta)*(h*w)**3)]"
      ],
      "metadata": {
        "id": "EfIlsFsQJ0Zy"
      },
      "execution_count": 5,
      "outputs": []
    },
    {
      "cell_type": "code",
      "source": [
        "root(eq,[0.1])"
      ],
      "metadata": {
        "colab": {
          "base_uri": "https://localhost:8080/"
        },
        "id": "gum2W4WlKby-",
        "outputId": "1a03b2a9-e10d-476a-8978-1c63c51294d4"
      },
      "execution_count": 6,
      "outputs": [
        {
          "output_type": "execute_result",
          "data": {
            "text/plain": [
              "    fjac: array([[-1.]])\n",
              "     fun: array([0.])\n",
              " message: 'The solution converged.'\n",
              "    nfev: 10\n",
              "     qtf: array([2.55388599e-10])\n",
              "       r: array([-180.53138172])\n",
              "  status: 1\n",
              " success: True\n",
              "       x: array([0.1406828])"
            ]
          },
          "metadata": {},
          "execution_count": 6
        }
      ]
    },
    {
      "cell_type": "code",
      "source": [],
      "metadata": {
        "id": "5p2T6dAvKfrj"
      },
      "execution_count": null,
      "outputs": []
    }
  ]
}