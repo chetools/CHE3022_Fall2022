{
  "nbformat": 4,
  "nbformat_minor": 0,
  "metadata": {
    "colab": {
      "provenance": [],
      "authorship_tag": "ABX9TyPrk8D09AW1PzlI4MVcpr2j",
      "include_colab_link": true
    },
    "kernelspec": {
      "name": "python3",
      "display_name": "Python 3"
    },
    "language_info": {
      "name": "python"
    }
  },
  "cells": [
    {
      "cell_type": "markdown",
      "metadata": {
        "id": "view-in-github",
        "colab_type": "text"
      },
      "source": [
        "<a href=\"https://colab.research.google.com/github/profteachkids/CHE3022_Fall2022/blob/main/NetworkFlow.ipynb\" target=\"_parent\"><img src=\"https://colab.research.google.com/assets/colab-badge.svg\" alt=\"Open In Colab\"/></a>"
      ]
    },
    {
      "cell_type": "code",
      "execution_count": 9,
      "metadata": {
        "id": "8QfY5LH3X6DZ"
      },
      "outputs": [],
      "source": [
        "import numpy as np\n",
        "from scipy.optimize import root"
      ]
    },
    {
      "cell_type": "code",
      "source": [
        "mu = 1e-3  #Pa s\n",
        "rho = 1e3   # kg/m3\n",
        "g=9.81      #m/s2"
      ],
      "metadata": {
        "id": "P-FqCnkKzKWC"
      },
      "execution_count": 4,
      "outputs": []
    },
    {
      "cell_type": "code",
      "source": [
        "def churchill(Re, eD):\n",
        "    t1 = (-2.457*np.log((7./Re)**0.9 + 0.27*eD))**16\n",
        "    t2 = (37530/Re)**16\n",
        "    return 2* ((8/Re)**12 + 1/(t1+t2)**1.5)**(1/12.)"
      ],
      "metadata": {
        "id": "Evkfj5-SX7Qp"
      },
      "execution_count": 5,
      "outputs": []
    },
    {
      "cell_type": "code",
      "source": [
        "def headDrop(Q, L, D, eD):\n",
        "   v=4*Q/(np.pi*(D**2))\n",
        "   Re = rho * v * D / mu\n",
        "   f = churchill(Re, eD)\n",
        "   return 2*f*L*(v**2)/(g*D)"
      ],
      "metadata": {
        "id": "QBcRb-XdYqzU"
      },
      "execution_count": 8,
      "outputs": []
    },
    {
      "cell_type": "code",
      "source": [
        "dHead(0.1, 10, 0.1, 5e-3)"
      ],
      "metadata": {
        "colab": {
          "base_uri": "https://localhost:8080/"
        },
        "id": "b3ox1_AF0O9s",
        "outputId": "339b33a9-5284-47d2-ca73-d02360751a7c"
      },
      "execution_count": 7,
      "outputs": [
        {
          "output_type": "execute_result",
          "data": {
            "text/plain": [
              "25.182198539291203"
            ]
          },
          "metadata": {},
          "execution_count": 7
        }
      ]
    },
    {
      "cell_type": "code",
      "source": [],
      "metadata": {
        "id": "nb9pJ90S0hZN"
      },
      "execution_count": null,
      "outputs": []
    }
  ]
}