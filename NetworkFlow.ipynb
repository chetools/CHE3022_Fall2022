{
  "nbformat": 4,
  "nbformat_minor": 0,
  "metadata": {
    "colab": {
      "provenance": [],
      "authorship_tag": "ABX9TyN7HvMuQBrkOwc4P+uC1DAe",
      "include_colab_link": true
    },
    "kernelspec": {
      "name": "python3",
      "display_name": "Python 3"
    },
    "language_info": {
      "name": "python"
    }
  },
  "cells": [
    {
      "cell_type": "markdown",
      "metadata": {
        "id": "view-in-github",
        "colab_type": "text"
      },
      "source": [
        "<a href=\"https://colab.research.google.com/github/profteachkids/CHE3022_Fall2022/blob/main/NetworkFlow.ipynb\" target=\"_parent\"><img src=\"https://colab.research.google.com/assets/colab-badge.svg\" alt=\"Open In Colab\"/></a>"
      ]
    },
    {
      "cell_type": "code",
      "execution_count": 1,
      "metadata": {
        "id": "8QfY5LH3X6DZ"
      },
      "outputs": [],
      "source": [
        "import numpy as np\n",
        "from scipy.optimize import root"
      ]
    },
    {
      "cell_type": "code",
      "source": [
        "mu = 1e-3  #Pa s\n",
        "rho = 1e3   # kg/m3\n",
        "g=9.81      #m/s2"
      ],
      "metadata": {
        "id": "P-FqCnkKzKWC"
      },
      "execution_count": 2,
      "outputs": []
    },
    {
      "cell_type": "code",
      "source": [
        "def churchill(Re, eD):\n",
        "    t1 = (-2.457*np.log((7./Re)**0.9 + 0.27*eD))**16\n",
        "    t2 = (37530/Re)**16\n",
        "    return 2* ((8/Re)**12 + 1/(t1+t2)**1.5)**(1/12.)"
      ],
      "metadata": {
        "id": "Evkfj5-SX7Qp"
      },
      "execution_count": 3,
      "outputs": []
    },
    {
      "cell_type": "code",
      "source": [
        "def headDrop(Q, L, D, eD):\n",
        "   v=4*Q/(np.pi*(D**2))\n",
        "   Re = rho * v * D / mu\n",
        "   f = churchill(Re, eD)\n",
        "   return 2*f*L*(v**2)/(g*D)"
      ],
      "metadata": {
        "id": "QBcRb-XdYqzU"
      },
      "execution_count": 4,
      "outputs": []
    },
    {
      "cell_type": "code",
      "source": [
        "#hD is the decrease in head from inlet to outlet\n",
        "#Positive hD indicates positive from inlet to outlet\n",
        "def flow(hD, L, D, eD):\n",
        "\n",
        "    # guess f = 0.01\n",
        "    Qguess = np.pi*(D**2)/4 * np.sqrt(hD*g*D/(2*0.01*L))\n",
        "    def eq(x):\n",
        "        Q=x[0]\n",
        "        return [hD - headDrop(Q, L, D, eD)]\n",
        "\n",
        "    return root(eq, [Qguess]).x[0]"
      ],
      "metadata": {
        "id": "nb9pJ90S0hZN"
      },
      "execution_count": 17,
      "outputs": []
    },
    {
      "cell_type": "code",
      "source": [
        "headDrop(0.1, 10, 0.1, 1e-6)"
      ],
      "metadata": {
        "id": "HwGY1aVS3a2T",
        "outputId": "0e37a2b8-2fca-40d7-8841-141611b044a1",
        "colab": {
          "base_uri": "https://localhost:8080/"
        }
      },
      "execution_count": 18,
      "outputs": [
        {
          "output_type": "execute_result",
          "data": {
            "text/plain": [
              "9.240640333391058"
            ]
          },
          "metadata": {},
          "execution_count": 18
        }
      ]
    },
    {
      "cell_type": "code",
      "source": [
        "flow(9.24, 10, 0.1, 1e-6)"
      ],
      "metadata": {
        "id": "WV3y6fas76zQ",
        "outputId": "e7b305f9-4e74-46d7-8d48-5329a6141ea8",
        "colab": {
          "base_uri": "https://localhost:8080/"
        }
      },
      "execution_count": 19,
      "outputs": [
        {
          "output_type": "execute_result",
          "data": {
            "text/plain": [
              "0.09999622779308243"
            ]
          },
          "metadata": {},
          "execution_count": 19
        }
      ]
    },
    {
      "cell_type": "code",
      "source": [],
      "metadata": {
        "id": "rATnr7yZ8Lnc"
      },
      "execution_count": null,
      "outputs": []
    }
  ]
}