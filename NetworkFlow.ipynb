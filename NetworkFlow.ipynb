{
  "nbformat": 4,
  "nbformat_minor": 0,
  "metadata": {
    "colab": {
      "provenance": [],
      "authorship_tag": "ABX9TyOwUobuH9Si9Gi4U/qBBq3l",
      "include_colab_link": true
    },
    "kernelspec": {
      "name": "python3",
      "display_name": "Python 3"
    },
    "language_info": {
      "name": "python"
    }
  },
  "cells": [
    {
      "cell_type": "markdown",
      "metadata": {
        "id": "view-in-github",
        "colab_type": "text"
      },
      "source": [
        "<a href=\"https://colab.research.google.com/github/profteachkids/CHE3022_Fall2022/blob/main/NetworkFlow.ipynb\" target=\"_parent\"><img src=\"https://colab.research.google.com/assets/colab-badge.svg\" alt=\"Open In Colab\"/></a>"
      ]
    },
    {
      "cell_type": "code",
      "execution_count": 1,
      "metadata": {
        "id": "8QfY5LH3X6DZ"
      },
      "outputs": [],
      "source": [
        "import numpy as np\n",
        "from scipy.optimize import root"
      ]
    },
    {
      "cell_type": "code",
      "source": [
        "mu = 1e-3  #Pa s\n",
        "rho = 1e3   # kg/m3\n",
        "g=9.81      #m/s2"
      ],
      "metadata": {
        "id": "P-FqCnkKzKWC"
      },
      "execution_count": 2,
      "outputs": []
    },
    {
      "cell_type": "code",
      "source": [
        "def churchill(Re, eD):\n",
        "    t1 = (-2.457*np.log((7./Re)**0.9 + 0.27*eD))**16\n",
        "    t2 = (37530/Re)**16\n",
        "    return 2* ((8/Re)**12 + 1/(t1+t2)**1.5)**(1/12.)"
      ],
      "metadata": {
        "id": "Evkfj5-SX7Qp"
      },
      "execution_count": 3,
      "outputs": []
    },
    {
      "cell_type": "code",
      "source": [
        "def headDrop(Q, L, D, eD, K=0.):\n",
        "   v=4*np.abs(Q)/(np.pi*(D**2))\n",
        "   Re = rho * v * D / mu\n",
        "   f = churchill(Re, eD)\n",
        "   return np.copysign(2*f*L*(v**2)/(g*D) + K/2/g*(v**2),Q)"
      ],
      "metadata": {
        "id": "QBcRb-XdYqzU"
      },
      "execution_count": 4,
      "outputs": []
    },
    {
      "cell_type": "code",
      "source": [
        "#hD is the decrease in head from inlet to outlet\n",
        "#Positive hD indicates positive from inlet to outlet\n",
        "def flow(hD, L, D, eD, K=0.):\n",
        "\n",
        "    if np.abs(hD)<1e-12:\n",
        "        return 0.\n",
        "\n",
        "    # guess f = 0.01\n",
        "    Qguess = np.copysign(np.pi*(D**2)/4 * np.sqrt(np.abs(hD)*g/(K/2 + 0.02*L/D)),hD)\n",
        "    def eq(x):\n",
        "        Q=x[0]\n",
        "        return [hD - headDrop(Q, L, D, eD, K)]\n",
        "\n",
        "    return root(eq, [Qguess]).x[0]"
      ],
      "metadata": {
        "id": "nb9pJ90S0hZN"
      },
      "execution_count": 72,
      "outputs": []
    },
    {
      "cell_type": "code",
      "source": [
        "\n",
        "\n",
        "pipes=np.array([[1, 3, 35., 0.05, 1e-6, 3.],\n",
        "                [2, 4, 20., 0.05, 1e-6, 2.],\n",
        "                [3, 4, 5., 0.05, 1e-6, 1.],\n",
        "                [3, 5, 10., 0.05, 1e-6, 4.],\n",
        "                [3, 6, 1., 0.05, 1e-6, 1.],\n",
        "                [4, 5, 3., 0.05, 1e-6, 2.],\n",
        "                [5, 6, 1., 0.05, 1e-6, 1.]])\n",
        "\n",
        "\n",
        "\n",
        "#indexing starts from 0\n",
        "pipe_in = pipes[:,0].astype(np.int32)-1\n",
        "pipe_out = pipes[:,1].astype(np.int32)-1\n",
        "lengths = pipes[:,2]\n",
        "diameters = pipes[:,3]\n",
        "eDs = pipes[:,4]\n",
        "Kvals=pipes[:,5]\n",
        "\n",
        "pipe_flows = np.zeros_like(lengths)\n",
        "npipes = pipe_flows.size"
      ],
      "metadata": {
        "id": "pBhQ9SnbH-Mz"
      },
      "execution_count": 74,
      "outputs": []
    },
    {
      "cell_type": "code",
      "source": [
        "z=np.array([30., 10., 0., 5., 0., 0.])\n",
        "P=np.zeros_like(z)\n",
        "heads = np.zeros_like(z)\n",
        "#idx start from 0, nodes start from 1\n",
        "external_idx=np.array([1, 2, 6])-1\n",
        "internal_idx=np.array(list(set(np.arange(np.max(pipe_out)+1))-set(external_idx)))\n",
        "P[external_idx]=np.array([3e5, 0., 0.])\n",
        "heads[external_idx] = P[external_idx]/rho/g + z[external_idx]\n",
        "\n"
      ],
      "metadata": {
        "id": "b5TQI9giN0uL"
      },
      "execution_count": 109,
      "outputs": []
    },
    {
      "cell_type": "code",
      "source": [
        "def internal_node_flow_to_zero(internal_pressure_guesses):\n",
        "    netFlows=np.zeros_like(z)\n",
        "    heads[internal_idx]=internal_pressure_guesses/rho/g + z[internal_idx]\n",
        "    for i in range(npipes):\n",
        "        dH=heads[pipe_in[i]]- heads[pipe_out[i]]\n",
        "        pipe_flows[i]=flow(dH, lengths[i], diameters[i], eDs[i], Kvals[i])\n",
        "    np.add.at(netFlows, pipe_in, -pipe_flows)\n",
        "    np.add.at(netFlows, pipe_out, pipe_flows)\n",
        "    return netFlows[internal_idx]"
      ],
      "metadata": {
        "id": "wZ6gWp5dSTvC"
      },
      "execution_count": 120,
      "outputs": []
    },
    {
      "cell_type": "code",
      "source": [
        "Pint_guesses=(np.mean(heads[external_idx])-z[internal_idx])*rho*g"
      ],
      "metadata": {
        "id": "3CY_mK-RYeXS"
      },
      "execution_count": 121,
      "outputs": []
    },
    {
      "cell_type": "code",
      "source": [
        "root(internal_node_flow_to_zero, Pint_guesses)"
      ],
      "metadata": {
        "id": "k8iKDM5gZqUk",
        "outputId": "4b89af4a-9830-4f43-8a29-29a47461bbfd",
        "colab": {
          "base_uri": "https://localhost:8080/"
        }
      },
      "execution_count": 122,
      "outputs": [
        {
          "output_type": "execute_result",
          "data": {
            "text/plain": [
              "    fjac: array([[-0.76937659,  0.63652837,  0.05377074],\n",
              "       [-0.47523493, -0.62659837,  0.61767811],\n",
              "       [-0.4268623 , -0.44967334, -0.78459063]])\n",
              "     fun: array([ 5.79991263e-12, -3.62606147e-12, -2.42334278e-12])\n",
              " message: 'The solution converged.'\n",
              "    nfev: 22\n",
              "     qtf: array([ 1.49311586e-10, -2.77636232e-11, -9.09307030e-12])\n",
              "       r: array([ 2.75441108e-06, -2.54527005e-06,  1.44860679e-07,  5.54294532e-07,\n",
              "       -5.15535962e-07,  3.06275628e-07])\n",
              "  status: 1\n",
              " success: True\n",
              "       x: array([ 37915.87771346, -10916.36917027,  20397.4471229 ])"
            ]
          },
          "metadata": {},
          "execution_count": 122
        }
      ]
    },
    {
      "cell_type": "code",
      "source": [
        "pipe_flows"
      ],
      "metadata": {
        "id": "iqP3O6Qyf4_X",
        "outputId": "52aca4b0-901f-4f6e-e15a-38b7986f1589",
        "colab": {
          "base_uri": "https://localhost:8080/"
        }
      },
      "execution_count": 123,
      "outputs": [
        {
          "output_type": "execute_result",
          "data": {
            "text/plain": [
              "array([ 0.01870679,  0.00747239, -0.000675  ,  0.00423824,  0.01514354,\n",
              "        0.0067974 ,  0.01103564])"
            ]
          },
          "metadata": {},
          "execution_count": 123
        }
      ]
    },
    {
      "cell_type": "code",
      "source": [],
      "metadata": {
        "id": "HyGvHWleYDX0"
      },
      "execution_count": null,
      "outputs": []
    }
  ]
}