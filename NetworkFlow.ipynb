{
  "nbformat": 4,
  "nbformat_minor": 0,
  "metadata": {
    "colab": {
      "provenance": [],
      "authorship_tag": "ABX9TyMXc2UDb1Vo8HkLa81eAcey",
      "include_colab_link": true
    },
    "kernelspec": {
      "name": "python3",
      "display_name": "Python 3"
    },
    "language_info": {
      "name": "python"
    }
  },
  "cells": [
    {
      "cell_type": "markdown",
      "metadata": {
        "id": "view-in-github",
        "colab_type": "text"
      },
      "source": [
        "<a href=\"https://colab.research.google.com/github/profteachkids/CHE3022_Fall2022/blob/main/NetworkFlow.ipynb\" target=\"_parent\"><img src=\"https://colab.research.google.com/assets/colab-badge.svg\" alt=\"Open In Colab\"/></a>"
      ]
    },
    {
      "cell_type": "code",
      "execution_count": 1,
      "metadata": {
        "id": "8QfY5LH3X6DZ"
      },
      "outputs": [],
      "source": [
        "import numpy as np\n",
        "from scipy.optimize import root"
      ]
    },
    {
      "cell_type": "code",
      "source": [
        "mu = 1e-3  #Pa s\n",
        "rho = 1e3   # kg/m3\n",
        "g=9.81      #m/s2"
      ],
      "metadata": {
        "id": "P-FqCnkKzKWC"
      },
      "execution_count": 2,
      "outputs": []
    },
    {
      "cell_type": "code",
      "source": [
        "def churchill(Re, eD):\n",
        "    t1 = (-2.457*np.log((7./Re)**0.9 + 0.27*eD))**16\n",
        "    t2 = (37530/Re)**16\n",
        "    return 2* ((8/Re)**12 + 1/(t1+t2)**1.5)**(1/12.)"
      ],
      "metadata": {
        "id": "Evkfj5-SX7Qp"
      },
      "execution_count": 3,
      "outputs": []
    },
    {
      "cell_type": "code",
      "source": [
        "def headDrop(Q, L, D, eD, K=0.):\n",
        "   v=4*np.abs(Q)/(np.pi*(D**2))\n",
        "   Re = rho * v * D / mu\n",
        "   f = churchill(Re, eD)\n",
        "   return np.copysign(2*f*L*(v**2)/(g*D) + K/2/g*(v**2),Q)"
      ],
      "metadata": {
        "id": "QBcRb-XdYqzU"
      },
      "execution_count": 21,
      "outputs": []
    },
    {
      "cell_type": "code",
      "source": [
        "#hD is the decrease in head from inlet to outlet\n",
        "#Positive hD indicates positive from inlet to outlet\n",
        "def flow(hD, L, D, eD, K=0.):\n",
        "\n",
        "    # guess f = 0.01\n",
        "    Qguess = np.copysign(np.pi*(D**2)/4 * np.sqrt(np.abs(hD)*g/(K/2 + 0.02*L/D)),hD)\n",
        "    def eq(x):\n",
        "        Q=x[0]\n",
        "        return [hD - headDrop(Q, L, D, eD, K)]\n",
        "\n",
        "    return root(eq, [Qguess]).x[0]"
      ],
      "metadata": {
        "id": "nb9pJ90S0hZN"
      },
      "execution_count": 22,
      "outputs": []
    },
    {
      "cell_type": "code",
      "source": [
        "\n",
        "\n",
        "pipes=np.array([[1, 3, 35., 0.05, 1e-6, 3.],\n",
        "                [2, 4, 20., 0.05, 1e-6, 2.],\n",
        "                [3, 4, 5., 0.05, 1e-6, 1.],\n",
        "                [3, 5, 10., 0.05, 1e-6, 4.],\n",
        "                [3, 6, 1., 0.05, 1e-6, 1.],\n",
        "                [4, 5, 3., 0.05, 1e-6, 2.],\n",
        "                [5, 6, 1., 0.05, 1e-6, 1.]])\n",
        "\n",
        "#indexing starts from 0\n",
        "pipe_in = pipes[:,0].astype(np.int32)-1\n",
        "pipe_out = pipes[:,1].astype(np.int32)-1\n",
        "lengths = pipes[:,2]\n",
        "diameters = pipes[:,3]\n",
        "eDs = pipes[:,4]\n",
        "Kvals=pipes[:,5]"
      ],
      "metadata": {
        "id": "pBhQ9SnbH-Mz"
      },
      "execution_count": 39,
      "outputs": []
    },
    {
      "cell_type": "code",
      "source": [
        "pipe_in"
      ],
      "metadata": {
        "id": "bmshLcoCR8nI",
        "outputId": "cbdbd894-3c91-4fb3-e9a0-08d2b863181b",
        "colab": {
          "base_uri": "https://localhost:8080/"
        }
      },
      "execution_count": 35,
      "outputs": [
        {
          "output_type": "execute_result",
          "data": {
            "text/plain": [
              "array([1, 2, 3, 3, 3, 4, 5], dtype=int32)"
            ]
          },
          "metadata": {},
          "execution_count": 35
        }
      ]
    },
    {
      "cell_type": "code",
      "source": [
        "z=np.array([30., 10., 0., 5., 0., 0.])\n",
        "external_nodes=[1, 2, 6]\n"
      ],
      "metadata": {
        "id": "b5TQI9giN0uL"
      },
      "execution_count": 31,
      "outputs": []
    },
    {
      "cell_type": "code",
      "source": [
        "z[pipe_in]"
      ],
      "metadata": {
        "id": "Eug9fJsTOSdL",
        "outputId": "9b52eb7f-4088-45e7-ba32-532bdf3848f0",
        "colab": {
          "base_uri": "https://localhost:8080/"
        }
      },
      "execution_count": 37,
      "outputs": [
        {
          "output_type": "execute_result",
          "data": {
            "text/plain": [
              "array([30., 10.,  0.,  0.,  0.,  5.,  0.])"
            ]
          },
          "metadata": {},
          "execution_count": 37
        }
      ]
    },
    {
      "cell_type": "code",
      "source": [],
      "metadata": {
        "id": "wZ6gWp5dSTvC"
      },
      "execution_count": null,
      "outputs": []
    }
  ]
}