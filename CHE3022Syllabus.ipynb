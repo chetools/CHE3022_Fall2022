{
  "nbformat": 4,
  "nbformat_minor": 0,
  "metadata": {
    "colab": {
      "name": "CHE3022Syllabus.ipynb",
      "provenance": [],
      "include_colab_link": true
    },
    "kernelspec": {
      "name": "python3",
      "display_name": "Python 3"
    },
    "language_info": {
      "name": "python"
    }
  },
  "cells": [
    {
      "cell_type": "markdown",
      "metadata": {
        "id": "view-in-github",
        "colab_type": "text"
      },
      "source": [
        "<a href=\"https://colab.research.google.com/github/profteachkids/CHE3022_Fall_2022/blob/main/CHE3022Syllabus.ipynb\" target=\"_parent\"><img src=\"https://colab.research.google.com/assets/colab-badge.svg\" alt=\"Open In Colab\"/></a>"
      ]
    },
    {
      "cell_type": "markdown",
      "metadata": {
        "id": "PiBxWvul6EEV"
      },
      "source": [
        "**CHE 3022 - Transport 1 Momentum and Heat Transfer**\n",
        "\n",
        "Instructor: Carlos Co<br>\n",
        "email: carlos.co@uc.edu"
      ]
    },
    {
      "cell_type": "markdown",
      "metadata": {
        "id": "dQGhiM_o6477"
      },
      "source": [
        "##Prerequisites\n",
        "- CHE2064 Material and Energy Balances (C- or higher)\n",
        "- PHYS2001 College Physics (C- or higher)\n",
        "- MATH2073 Ordinary Differential Equations (C- or higher)\n",
        "\n",
        "##Textbooks\n",
        "- Noel de Nevers, \"Fluid Mechanics for Chemical Engineers, 3rd.\" ISBN 978-0-07-256608-6\n",
        "- Bergman, T. L., Lavine, A. S., Incropera F. P., and DeWitt D. P., “Fundamentals of Heat and Mass Transfer”, 7th edition ISBN13 978-0470-50197-9\n",
        "\n",
        "\n",
        "##Topics\n",
        "- Fluids vs Solids, Viscosity, Newtonian/Non-Newtonian, Pressure\n",
        "- Fluid Statics, Pressure-Depth Relation, Forces on Surfaces/Vessels/Piping, - Buoyancy\n",
        "- Mass and Energy Balance Review Steady State, Velocity - Average/Distribution, Internal Energy/KE/PE, Injection Work, Enthalpy\n",
        "- Bernoulli's Equation\n",
        "- Friction Heating, Diffusers, Low-Velocity Gas Flow, Torricelli, Flow Measurement\n",
        "- Fluid Friction in Steady 1D Flow\n",
        "- Reynolds Experiment, Laminar/Turbulent Flows, Pipe Flow Calculations, Flow Around Submerged Objects, Flow in Piping Networks\n",
        "- Momentum Balance\n",
        "- Forces in Pipes, Sudden Expansion\n",
        "- Introduction to Heat Transfer: Conduction/Convection/Radiation\n",
        "- Heat Diffusion Equation, Boundary and Initial Conditions\n",
        "- One Dimensional Steady State Conduction, Plane Wall, Radial Systems\n",
        "- Conduction with Thermal Energy Generation\n",
        "- Two Dimensional Steady State Conduction\n",
        "- Finite Difference Equation, Computer Solution of Nodal Networks\n",
        "- Heat Exchangers - Countercurrent and co-Current Heat Exchangers, Effectiveness/NTU\n"
      ]
    },
    {
      "cell_type": "markdown",
      "metadata": {
        "id": "AMk2GUql-iaR"
      },
      "source": [
        "##Computational Emphasis\n",
        "\n",
        "WHAT IF?  Is a question an engineer should never stop asking.  Any calculation worth doing once in a real engineering situation, is inevitably repeated over and over again for different conditions.  Coding to automate calculations is therefore one of the most valuable engineering skills.  We will use Python intensively in this class using Google's Colaboratory Jupyter Notebook environment.  It is highly recommended for you to go through the following free online texts to brush up on your Python skills BEFORE our first class:\n",
        "\n",
        "https://jakevdp.github.io/WhirlwindTourOfPython/\n",
        "\n",
        "https://jakevdp.github.io/PythonDataScienceHandbook/\n",
        "\n",
        "https://colab.research.google.com/notebooks/intro.ipynb\n",
        "\n",
        "https://plotly.com/python/plotly-fundamentals/\n",
        "\n",
        "https://numpy.org/doc/stable/user/quickstart.html"
      ]
    },
    {
      "cell_type": "markdown",
      "metadata": {
        "id": "uCG99BF0_DOB"
      },
      "source": [
        "##Grading\n",
        "\n",
        "Attendance, class participation with a webcam, responding when called upon to answer a question, and proof of laughing in class are all MANDATORY.   If you are absent for a good reason (coop interview, medical, military, etc.) send me an email (carlos.co@uc.edu).  5 or more unexcused absences will result in an unpredictable grade.\n",
        "\n",
        "In the real world, there are no 2 hour exams.  While there are deadlines, no boss will prevent you from working extra at night or weekends on a project.  Success as an engineer comes from persistent attention to detail, hard work, desire to learn, and communication skills.\n",
        "\n",
        "Grading in this course will try to reflect this reality as closely as possible.  There will be ~5 homework problems that require submission of Youtube videos where you present (without looking at notes) solution to problems and write Python code (live) to complete the calculations.<br>\n",
        "\n",
        "You will have ~1.5 weeks to complete each of these multipart videos submitted as YouTube playlists that would average between 30 to 60 minutes long.  Do note that because you are presenting on camera and not allowed to look at notes while you present and write the code, it will take MANY attempts to make a video worthy of submission.  Make your first recording attempt no later than the 3rd day after the HW is assigned.  It will be much harder than you think - do not procrastinate.\n",
        "\n",
        "This video: https://www.youtube.com/watch?v=f1uPGyzyr8Y and the following scenes show how your camera should be setup when recording the whiteboard and coding sections of your videos. If you choose to use a pen device or paper that is recorded with a camera, a second video angle showing the work environment must be provided as evidence that the work is not merely being copied.\n",
        "\n",
        "![pictures](https://github.com/profteachkids/CHE3022_Fall_2022/raw/ce1e16003f8c35d6d275b8a955905e0dafb06557/CameraSetup1.jpg)\n",
        "\n",
        "![pictures](https://raw.githubusercontent.com/profteachkids/CHE3022_Fall_2022/main/CameraSetup2.jpg)\n",
        "\n",
        "\n",
        "![pictures](https://raw.githubusercontent.com/profteachkids/CHE3022_Fall_2022/main/CameraSetup3.jpg)"
      ]
    },
    {
      "cell_type": "markdown",
      "metadata": {
        "id": "k7n248QbrvNY"
      },
      "source": [
        "## Required Supplies\n",
        "\n",
        "1.  Access to a large whiteboard/chalkboard.  If you do not have reliable access to a classroom at UC, you should purchase and mount either a LARGE white board, or a stick-on the wall whiteboard (https://www.amazon.com/Whiteboard-Sticker-Self-adhesive-School-Drawing/dp/B072MH83XF)\n",
        "\n",
        "2.  A means for recording yourself while you solve problems on the whiteboard in #2.\n",
        "\n",
        "3.  If you prefer to use an iPad or Tablet with pen instead of a whiteboard, you must simultaneously record the iPad/Tablet screen and a webcam/phone cam showing your face as you explain your work.\n",
        "\n",
        "4.  Python coding sections will require you to type out (while capturing the screen) and explain code with a webcam (recording your face).\n",
        "\n",
        "5.  Install OBS (https://obsproject.com/download) to do screen capture simultaneously with your webcam.\n",
        "\n",
        "6.  Movie editing program so you can overlay your screen recording, cell phone recording and/or webcam recording.\n",
        "\n",
        "7.  A confirmed YouTube account so you can upload playlists with unlimited length videos."
      ]
    },
    {
      "cell_type": "code",
      "source": [
        ""
      ],
      "metadata": {
        "id": "3xr6UXzI_frh"
      },
      "execution_count": null,
      "outputs": []
    }
  ]
}